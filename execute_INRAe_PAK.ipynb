{
 "cells": [
  {
   "cell_type": "code",
   "execution_count": null,
   "metadata": {},
   "outputs": [],
   "source": [
    "import os\n",
    "import glob\n",
    "import INRA_IC50_Program as IC"
   ]
  },
  {
   "cell_type": "code",
   "execution_count": null,
   "metadata": {},
   "outputs": [],
   "source": [
    "os.getcwd()\n",
    "os.chdir('N:\\\\work\\\\In vitro Assays\\\\Resazurin Assays\\\\INRAE 2023')\n",
    "\n",
    "absorbance_data = '96-well plates Sclerotinia Botrytis INRAe Oct 2023'\n",
    "botrytis = f'{absorbance_data}\\\\Scans Botrytis'\n",
    "sclerotinia =  f'{absorbance_data}\\\\Scans Sclerotinia'\n",
    "\n",
    "concentration_name = f'{absorbance_data}\\\\INRAE_CONCENTRATIONS.csv'\n",
    "botrytis_data = glob.glob(f\"{botrytis}\\\\*\")\n",
    "sclerotinia_data = glob.glob(f\"{sclerotinia}\\\\*\")"
   ]
  },
  {
   "cell_type": "code",
   "execution_count": null,
   "metadata": {},
   "outputs": [],
   "source": [
    "outstr = '\\t'.join(['Plate ID','Media', 'test', 'control', 'Test_strain 1','Test_strain 2','Test_strain 3','Test_strain 4', 'Hygromycin 1', 'Hygromycin 2', 'Hygromycin 3', 'Lab Standard Strain 1', 'Lab Standard Strain 2', \n",
    "                    'Lab Standard Strain 3', 'Lab Standard Strain 4\\n'])\n",
    "\n",
    "for num, data_frame in enumerate(sclerotinia_data):\n",
    "    \n",
    "    #data_frame = botrytis_data\n",
    "    part = data_frame.split('\\\\')[-2]\n",
    "    output_dir = f\"Results\\\\{part}\"\n",
    "    if not os.path.exists(output_dir):\n",
    "        os.mkdir(output_dir)\n",
    "\n",
    "    if num == 0:\n",
    "        with open(f'{output_dir}\\\\INRAE_ANALYSIS.tsv', 'w') as outfile:\n",
    "            outfile.write(outstr)\n",
    "    output_name = data_frame.split(\"\\\\\")[-1].replace(\".xlsx\", \"\")\n",
    "\n",
    "    botrytis = IC.absorbance_open_tranform(data_frame)\n",
    "    #print(botrytis)\n",
    "    slices = ['1:5','5:8','8:12']\n",
    "    concentrations = pd.read_csv(concentration_name, header=None).values\n",
    "    ctrls = IC.control_slice(concentrations[4:,12], botrytis[1:,12])\n",
    "    mslices = IC.coord_slices(slices, concentrations, botrytis)\n",
    "\n",
    "    IC.ic_50_output_15dil(output_name, mslices, ctrls, output_dir)"
   ]
  }
 ],
 "metadata": {
  "kernelspec": {
   "display_name": "snowflakes",
   "language": "python",
   "name": "python3"
  },
  "language_info": {
   "name": "python",
   "version": "3.11.6"
  }
 },
 "nbformat": 4,
 "nbformat_minor": 2
}
